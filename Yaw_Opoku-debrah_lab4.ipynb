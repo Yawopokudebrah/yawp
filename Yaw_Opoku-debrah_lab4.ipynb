{
 "cells": [
  {
   "cell_type": "markdown",
   "id": "50fe7d22",
   "metadata": {},
   "source": [
    "# Lab - Week 4\n",
    "\n",
    "\n",
    "In this lab, you will explore using the methods of getting data and regular expressions. "
   ]
  },
  {
   "cell_type": "markdown",
   "id": "5e15a5ed",
   "metadata": {},
   "source": [
    "## Yaw opoku-debrah ##\n",
    "## lab 4\n",
    "## Date ##"
   ]
  },
  {
   "cell_type": "markdown",
   "id": "e390bae2",
   "metadata": {},
   "source": [
    "### Lab Setup"
   ]
  },
  {
   "cell_type": "code",
   "execution_count": 2,
   "id": "9b8917ed",
   "metadata": {},
   "outputs": [],
   "source": [
    "import re"
   ]
  },
  {
   "cell_type": "markdown",
   "id": "f3ca79df",
   "metadata": {},
   "source": [
    "## `re.match` \n",
    "\n",
    "The `match(pattern, string)` function is used to check a pattern against some text.  It only tries to find the pattern in the beginning of the text.  \n",
    "\n",
    "`re.match` Documentation:  https://docs.python.org/3.7/library/re.html#re.match\n",
    "\n",
    "\n",
    "*Reminder* the 'r' at the start of the pattern, indicates that it is a \"raw\" string which passes through backslashes (handy for regular expresssions)."
   ]
  },
  {
   "cell_type": "markdown",
   "id": "6ae9dd0b",
   "metadata": {},
   "source": [
    "### Example"
   ]
  },
  {
   "cell_type": "code",
   "execution_count": 3,
   "id": "ccb897a0",
   "metadata": {},
   "outputs": [
    {
     "name": "stdout",
     "output_type": "stream",
     "text": [
      "found  Regular\n",
      "did not find\n"
     ]
    }
   ],
   "source": [
    "tmpStr1 = 'Regular expressions are great'\n",
    "tmpStr2 = 'It is fun learning about regular expressions'\n",
    "match = re.match(r'[Rr]egular', tmpStr1)\n",
    "if match: \n",
    "    print('found ', match.group()) \n",
    "else: \n",
    "    print(\"did not find\")\n",
    "\n",
    "match = re.match(r'[Rr]egular', tmpStr2)\n",
    "if match: \n",
    "    print('found ', match.group()) \n",
    "else: \n",
    "    print(\"did not find\")"
   ]
  },
  {
   "cell_type": "markdown",
   "id": "eef8bcb2",
   "metadata": {},
   "source": [
    "## `re.search`\n",
    "\n",
    "The `re.search(pat, str)` function takes two main arguments: `pat` a regular expression pattern and a `str` string.  The method searches for that first occurence of the pattern within the string.  If sucessful, `search()` returns a match object; otherwise it returns None. \n",
    "\n",
    "`re.search()` Documentation: https://docs.python.org/3.7/library/re.html#re.search"
   ]
  },
  {
   "cell_type": "markdown",
   "id": "0e8d71b3",
   "metadata": {},
   "source": [
    "### Example"
   ]
  },
  {
   "cell_type": "code",
   "execution_count": 4,
   "id": "db1ed01e",
   "metadata": {},
   "outputs": [
    {
     "name": "stdout",
     "output_type": "stream",
     "text": [
      "found  Regular\n",
      "found  regular\n"
     ]
    }
   ],
   "source": [
    "match = re.search(r'[Rr]egular', tmpStr1)\n",
    "if match: \n",
    "    print('found ', match.group()) \n",
    "else: \n",
    "    print(\"did not find\")\n",
    "\n",
    "match = re.search(r'[Rr]egular', tmpStr2)\n",
    "if match: \n",
    "    print('found ', match.group()) \n",
    "else: \n",
    "    print(\"did not find\")"
   ]
  },
  {
   "cell_type": "markdown",
   "id": "6243e1f0",
   "metadata": {},
   "source": [
    "### Example"
   ]
  },
  {
   "cell_type": "code",
   "execution_count": 5,
   "id": "dcc11832",
   "metadata": {},
   "outputs": [
    {
     "name": "stdout",
     "output_type": "stream",
     "text": [
      "found  cat, Fido\n"
     ]
    }
   ],
   "source": [
    "tmpStr1 = 'I have a cat, Fido'\n",
    "tmpStr2 = 'I have a cat, Felix'\n",
    "tmpStr3 = 'I have a cat, It'\n",
    "match = re.search(r'cat,\\s\\w\\w\\w\\w', tmpStr1)\n",
    "if match: \n",
    "    print('found ', match.group()) \n",
    "else: \n",
    "    print(\"did not find\")"
   ]
  },
  {
   "cell_type": "markdown",
   "id": "70579eb9",
   "metadata": {},
   "source": [
    "Try running the expression above on the three test strings. "
   ]
  },
  {
   "cell_type": "markdown",
   "id": "8618b977",
   "metadata": {},
   "source": [
    "<!-- BEGIN QUESTION -->\n",
    "\n",
    "## Exercise 1 - Properties of search\n",
    "\n",
    "Examine the following search uses of the search function."
   ]
  },
  {
   "cell_type": "code",
   "execution_count": 6,
   "id": "77eef752",
   "metadata": {},
   "outputs": [
    {
     "name": "stdout",
     "output_type": "stream",
     "text": [
      "found:  baa\n",
      "found:  baa2\n"
     ]
    }
   ],
   "source": [
    "tmpStr1 = 'baa baaa black sheep'\n",
    "match = re.search(r'ba+', tmpStr1)\n",
    "if match: \n",
    "    print('found: ', match.group()) \n",
    "else: \n",
    "    print(\"did not find\")\n",
    "\n",
    "tmpStr2 = 'baa2 baaaa4 baaa3'\n",
    "match = re.search(r'ba+\\d', tmpStr2)\n",
    "if match: \n",
    "    print('found: ', match.group()) \n",
    "else: \n",
    "    print(\"did not find\")"
   ]
  },
  {
   "cell_type": "markdown",
   "id": "18de69f5",
   "metadata": {},
   "source": [
    "**Q** Which of the \"baa\" words is returned in tmpStr2?  Will the function return the leftmost or rightmost occurance in a string? "
   ]
  },
  {
   "cell_type": "markdown",
   "id": "ce18c565",
   "metadata": {},
   "source": [
    "**ANS**   \n",
    "The re.search returns the leftmost occurence of a string. So the function will return the first string which is 'baa2'."
   ]
  },
  {
   "cell_type": "markdown",
   "id": "b4f0611d",
   "metadata": {},
   "source": [
    "<!-- END QUESTION -->\n",
    "\n",
    "### Example - Anchors\n",
    "\n",
    "The exception to your answer above is if the pattern specifies anchors to find a match at the beginning `^` or end `$` of a string. "
   ]
  },
  {
   "cell_type": "code",
   "execution_count": 7,
   "id": "0ba168f2",
   "metadata": {},
   "outputs": [
    {
     "name": "stdout",
     "output_type": "stream",
     "text": [
      "found:  foobar1\n",
      "found:  foobar3\n"
     ]
    }
   ],
   "source": [
    "tmpStr1 = 'foobar1 foobar2 foobar3'\n",
    "match = re.search(r'^f\\w+\\d', tmpStr1)\n",
    "if match: \n",
    "    print('found: ', match.group()) \n",
    "else: \n",
    "    print(\"did not find\")\n",
    "\n",
    "match = re.search(r'f\\w+\\d$', tmpStr1)\n",
    "if match: \n",
    "    print('found: ', match.group()) \n",
    "else: \n",
    "    print(\"did not find\")"
   ]
  },
  {
   "cell_type": "markdown",
   "id": "2c9d0edf",
   "metadata": {},
   "source": [
    "## Exercise 2 - Create a pattern \n",
    "\n",
    "Create a regular expression pattern that matches all the positive examples below, but none of the negative examples.  You can not simply list the positives strings \"or\"ed together. \n",
    "\n",
    "| Positive | Negative | \n",
    "|----------|----------|\n",
    "| pit      | pt       | \n",
    "| spot     | Pot      |\n",
    "| spate    | peat     | \n",
    "| slap two | part     | \n",
    "| respite  | SLIP ten |"
   ]
  },
  {
   "cell_type": "code",
   "execution_count": 8,
   "id": "0c643646",
   "metadata": {},
   "outputs": [
    {
     "name": "stdout",
     "output_type": "stream",
     "text": [
      "Positive Cases: \n",
      "\n",
      "      pit: found\n",
      "     spot: found\n",
      "    spate: found\n",
      " slap two: found\n",
      "  respite: found\n",
      "\n",
      "Negative Cases: \n",
      "\n",
      "       pt: not found\n",
      "      Pot: not found\n",
      "     peat: not found\n",
      "     part: not found\n",
      " SLIP ten: not found\n"
     ]
    }
   ],
   "source": [
    "cases = ['pit', 'spot', 'spate', 'slap two', 'respite', 'pt', 'Pot', 'peat', \n",
    "         'part', 'SLIP ten']\n",
    "pat = r'[sp][pli]' ##Fill here\n",
    "print('Positive Cases: \\n')\n",
    "for ex in cases: \n",
    "    match = re.search(pat, ex)\n",
    "    if ex==\"pt\": \n",
    "        print(\"\\nNegative Cases: \\n\")\n",
    "    if match: \n",
    "        print(\"%9s: found\" % ex)\n",
    "    else: \n",
    "        print(\"%9s: not found\" % ex)"
   ]
  },
  {
   "cell_type": "markdown",
   "id": "a9b62473",
   "metadata": {},
   "source": [
    "## Exercise 3 - Create a Pattern \n",
    "\n",
    "Create a regular expression pattern that matches all the positive examples below, but none of the negative examples. You can not simply list the positives strings \"or\"ed together.\n",
    "\n",
    "| Positive | Negative | \n",
    "|----------|----------|\n",
    "| rap them | aleht    | \n",
    "| tapeth   | happy them | \n",
    "| apth     | tarpth | \n",
    "| wrap/try | Apt | \n",
    "| sap tray | peth | \n",
    "| 87ap9th  | tarreth | \n",
    "| apothecary | ddapdg | \n",
    "|      | apples | \n",
    "|      | shape the |"
   ]
  },
  {
   "cell_type": "code",
   "execution_count": 9,
   "id": "9644d3b1",
   "metadata": {},
   "outputs": [
    {
     "name": "stdout",
     "output_type": "stream",
     "text": [
      "Positive Cases: \n",
      "\n",
      "   rap them: found\n",
      "     tapeth: found\n",
      "       apth: found\n",
      "   wrap/try: found\n",
      "   sap tray: found\n",
      "    87ap9th: found\n",
      " apothecary: found\n",
      "\n",
      "Negative Cases: \n",
      "\n",
      "      aleht: not found\n",
      " happy them: not found\n",
      "     tarpth: not found\n",
      "        Apt: not found\n",
      "       peth: not found\n",
      "    tarreth: not found\n",
      "     ddapdg: not found\n",
      "     apples: not found\n",
      "  shape the: not found\n"
     ]
    }
   ],
   "source": [
    "cases_E3 = ['rap them', 'tapeth', 'apth', 'wrap/try', 'sap tray', '87ap9th', 'apothecary',\n",
    "         'aleht', 'happy them', 'tarpth', 'Apt', 'peth', 'tarreth', 'ddapdg', \n",
    "         'apples', 'shape the']\n",
    "pattern_E3 = r'ap[^pd]\\w' ## fill here\n",
    "print('Positive Cases: \\n')\n",
    "for ex in cases_E3: \n",
    "    match = re.search(pattern_E3, ex)\n",
    "    if ex==\"aleht\": \n",
    "        print(\"\\nNegative Cases: \\n\")\n",
    "    if match: \n",
    "        print(\"%11s: found\" % ex)\n",
    "    else: \n",
    "        print(\"%11s: not found\" % ex)"
   ]
  },
  {
   "cell_type": "markdown",
   "id": "b609d449",
   "metadata": {},
   "source": [
    "## Exercise 4 - Create a pattern \n",
    "\n",
    "Create a regular expression pattern that matches all the positive examples below, but none of the negative examples. You can not simply list the positives strings \"or\"ed together.\n",
    "\n",
    "| Positive | Negative | \n",
    "|----------|----------|\n",
    "| affgfking | fgok | \n",
    "| rafgkahe | a fgk | \n",
    "| bafghk | affgm | \n",
    "| baffgkit | afffhk | \n",
    "| affgfking | fgik | \n",
    "| rafgkahe | afg.K | \n",
    "| bafghk | aff gm | \n",
    "| baffg kit | afffhgk | "
   ]
  },
  {
   "cell_type": "code",
   "execution_count": 10,
   "id": "18ba2d76",
   "metadata": {},
   "outputs": [
    {
     "name": "stdout",
     "output_type": "stream",
     "text": [
      "Positive Cases: \n",
      "\n",
      " affgfking: found\n",
      "  rafgkahe: found\n",
      "    bafghk: found\n",
      "  baffgkit: found\n",
      " affgfking: found\n",
      "  rafgkahe: found\n",
      "    bafghk: found\n",
      " baffg kit: found\n",
      "\n",
      "Negative Cases: \n",
      "\n",
      "      fgok: not found\n",
      "     a fgk: not found\n",
      "     affgm: not found\n",
      "    afffhk: not found\n",
      "      fgik: not found\n",
      "     afg.K: not found\n",
      "    aff gm: not found\n",
      "   afffhgk: not found\n"
     ]
    }
   ],
   "source": [
    "cases_E4 = ['affgfking', 'rafgkahe', 'bafghk', 'baffgkit', 'affgfking', 'rafgkahe', \n",
    "         'bafghk', 'baffg kit', 'fgok', 'a fgk', 'affgm', 'afffhk', 'fgik', \n",
    "         'afg.K', 'aff gm', 'afffhgk']  \n",
    "pattern_E4 = r'af[gf][^f.][^gm]' #Fill here\n",
    "print('Positive Cases: \\n')\n",
    "for ex in cases_E4: \n",
    "    match = re.search(pattern_E4, ex)\n",
    "    if ex=='fgok':\n",
    "        print(\"\\nNegative Cases: \\n\")\n",
    "    if match: \n",
    "        print(\"%10s: found\" % ex)\n",
    "    else: \n",
    "        print(\"%10s: not found\" % ex)"
   ]
  },
  {
   "cell_type": "markdown",
   "id": "d75619ba",
   "metadata": {},
   "source": [
    "### Example - Group Extraction \n",
    "\n",
    "The \"group\" part of regular expressions allows for part of the matching text to be selected out.  Let's say we want to extract an email from a string, but in addition to finding the email we want to extract the username and host separately, e.g., to pull out a MTU ISO login. \n",
    "\n",
    "The parenthesis in the pattern are used to identify the \"groups\" inside the text.  "
   ]
  },
  {
   "cell_type": "code",
   "execution_count": 11,
   "id": "0e9ba7fd",
   "metadata": {},
   "outputs": [
    {
     "name": "stdout",
     "output_type": "stream",
     "text": [
      "Email:     jdoe@mtu.edu\n",
      "username:  jdoe\n",
      "hostname:  mtu.edu\n"
     ]
    }
   ],
   "source": [
    "tempStr = 'send an email to John, jdoe@mtu.edu, by tomorrow'\n",
    "match = re.search('([\\w]+)@([\\w.]+)', tempStr)\n",
    "if match: \n",
    "    print(\"Email:    \", match.group())\n",
    "    print(\"username: \", match.group(1))\n",
    "    print(\"hostname: \", match.group(2))\n",
    "else: \n",
    "    print(\"no match\")"
   ]
  },
  {
   "cell_type": "markdown",
   "id": "701e844c",
   "metadata": {},
   "source": [
    "## Exercise 5 - Groups\n",
    "\n",
    "There are discussions on what is the best regular expression pattern to match emails (e.g, used to verify emails in forms).  But, let's think about how to extend the pattern above to handle the following cases: \n",
    "\n",
    "* usernames, can have both characters and numbers and underscores, but will not start with a number, e.g, jdoe15@mtu.edu, sherlock24@gmail.com, tom_brady@gmail.com \n",
    "* an email may have task-specific email address (for example, google allows this), where you can add additional identifiers after your username, e.g., harrypotter+news@gmail.com or jonstark+dragons@gmail.com.  Make sure you can separate out a username from the tasks. \n",
    "    * \"harrypotter+news@gmail.com\" has username \"harrypotter\" and task \"news\""
   ]
  },
  {
   "cell_type": "code",
   "execution_count": 12,
   "id": "087d331b",
   "metadata": {},
   "outputs": [
    {
     "name": "stdout",
     "output_type": "stream",
     "text": [
      "Email:  jdoe@gmail.com username:  jdo hostname:  gmail.com\n",
      "Email:  sherlock24@gmail.com username:  sherlock2 hostname:  gmail.com\n",
      "Email:  tom_brady@gmail.com username:  tom_brad hostname:  gmail.com\n",
      "Email:  harrypotter+news@gmail.com username:  harrypotter hostname:  gmail.com\n",
      "Email:  jonstark+dragons@gmail.com username:  jonstark hostname:  gmail.com\n",
      "Email:  juliet_capulet+poison@gmail.com username:  juliet_capulet hostname:  gmail.com\n",
      "Email:  Charles_Dickons@yahoo.com username:  Charles_Dickon hostname:  yahoo.com\n",
      "Email:  AnakinSkywalker@hotmail.com username:  AnakinSkywalke hostname:  hotmail.com\n"
     ]
    }
   ],
   "source": [
    "cases_E5 = ['jdoe@gmail.com', 'sherlock24@gmail.com', 'tom_brady@gmail.com', \n",
    "            'harrypotter+news@gmail.com', 'jonstark+dragons@gmail.com',\n",
    "            'juliet_capulet+poison@gmail.com', 'Charles_Dickons@yahoo.com', \n",
    "            'AnakinSkywalker@hotmail.com']\n",
    "pattern_E5 = r'([\\w.-]+)\\+?.+@([\\w.-]+)' #FILL HERE\n",
    "for ex in cases_E5: \n",
    "    match = re.search(pattern_E5, ex)\n",
    "    if match: \n",
    "        print(\"Email: \", match.group(), end='')\n",
    "        print(\" username: \", match.group(1), end='')\n",
    "        print(\" hostname: \", match.group(2))\n",
    "\n",
    "    else: \n",
    "        print(\"no match\")"
   ]
  },
  {
   "cell_type": "markdown",
   "id": "578d7793",
   "metadata": {},
   "source": [
    "## `re.findall()` \n",
    "\n",
    "The `re.findall()` function returns all occurences (non-overlapping) of a pattern in a string. \n",
    "\n",
    "`re.findall()` Documentation: https://docs.python.org/3.7/library/re.html#re.findall"
   ]
  },
  {
   "cell_type": "markdown",
   "id": "45087b20",
   "metadata": {},
   "source": [
    "### Example - findall with Files \n",
    "\n",
    "In the `nb.week4.part2.ipynb` notebook, we saw examples of looping over the lines of a file and running the regular expression. "
   ]
  },
  {
   "cell_type": "code",
   "execution_count": 13,
   "id": "10c537e5",
   "metadata": {},
   "outputs": [],
   "source": [
    "with open('rime-intro.txt', 'r') as f:\n",
    "  rime = f.readlines()\n",
    "f.close()"
   ]
  },
  {
   "cell_type": "code",
   "execution_count": 14,
   "id": "5b7d8bc5",
   "metadata": {},
   "outputs": [
    {
     "name": "stdout",
     "output_type": "stream",
     "text": [
      "No match\n",
      "No match\n",
      "No match\n",
      "No match\n",
      "Ship\n",
      "No match\n",
      "No match\n",
      "No match\n",
      "No match\n",
      "No match\n",
      "No match\n",
      "No match\n",
      "No match\n",
      "No match\n",
      "No match\n",
      "No match\n"
     ]
    }
   ],
   "source": [
    "for elem in rime:\n",
    "    #print (elem)\n",
    "    m = re.search(r\"Ship\", elem)\n",
    "    if m:\n",
    "        print(m.group())\n",
    "    else:\n",
    "        print(\"No match\")"
   ]
  },
  {
   "cell_type": "markdown",
   "id": "a3207129",
   "metadata": {},
   "source": [
    "Or, we could do this for each line within the file reader block. "
   ]
  },
  {
   "cell_type": "code",
   "execution_count": 15,
   "id": "774d3647",
   "metadata": {},
   "outputs": [
    {
     "name": "stdout",
     "output_type": "stream",
     "text": [
      "No match\n",
      "No match\n",
      "No match\n",
      "No match\n",
      "Ship\n",
      "No match\n",
      "No match\n",
      "No match\n",
      "No match\n",
      "No match\n",
      "No match\n",
      "No match\n",
      "No match\n",
      "No match\n",
      "No match\n",
      "No match\n"
     ]
    }
   ],
   "source": [
    "with open('rime-intro.txt', 'r') as f:\n",
    "    for line in f:\n",
    "        m = re.search(r\"Ship\", line)\n",
    "        if m:\n",
    "            print(m.group())\n",
    "        else:\n",
    "            print(\"No match\")\n",
    "\n",
    "f.close()"
   ]
  },
  {
   "cell_type": "markdown",
   "id": "3de159e8",
   "metadata": {},
   "source": [
    "Instead, we can let `findall()` do the iteration. "
   ]
  },
  {
   "cell_type": "code",
   "execution_count": 16,
   "id": "48a89263",
   "metadata": {},
   "outputs": [
    {
     "data": {
      "text/plain": [
       "['Ship']"
      ]
     },
     "execution_count": 16,
     "metadata": {},
     "output_type": "execute_result"
    }
   ],
   "source": [
    "f = open(\"rime-intro.txt\", 'r')\n",
    "strs = re.findall(r'Ship', f.read())\n",
    "f.close()\n",
    "strs"
   ]
  },
  {
   "cell_type": "markdown",
   "id": "3ba300a9",
   "metadata": {},
   "source": [
    "## `re.sub()` \n",
    "\n",
    "The function `re.sub(pat, replacement, str)` function takes three arguments: the regular expression pattern, a replacement string, and the string to search on.  The funciton searches for all instaces of the pattern in the passed in string and replaces them.  "
   ]
  },
  {
   "cell_type": "code",
   "execution_count": 17,
   "id": "9e2841af",
   "metadata": {},
   "outputs": [
    {
     "name": "stdout",
     "output_type": "stream",
     "text": [
      "Show the advantages of doing many examples\n"
     ]
    }
   ],
   "source": [
    "print(re.sub(r'benefits', 'advantages', 'Show the benefits of doing many examples'))"
   ]
  },
  {
   "cell_type": "markdown",
   "id": "ce06fe90",
   "metadata": {},
   "source": [
    "### Example - Substitution\n",
    "\n",
    "Replacement strings can make use of groups using `\\1` and `\\2`, to refer to `group(1)` and `group(2)`. \n",
    "\n",
    "For example, in the following text search for email addresses and replace the host with gmail.com. "
   ]
  },
  {
   "cell_type": "code",
   "execution_count": 18,
   "id": "619cf99b",
   "metadata": {},
   "outputs": [
    {
     "name": "stdout",
     "output_type": "stream",
     "text": [
      "testing abc@gmail.com, other words. punctuation doe@gmail.com blah\n"
     ]
    }
   ],
   "source": [
    "tempStr = 'testing abc@mtu.edu, other words. punctuation doe@foobar.org blah'\n",
    "print(re.sub(r'([\\w\\.-]+)@([\\w\\.-]+)', r'\\1@gmail.com', tempStr))"
   ]
  },
  {
   "cell_type": "markdown",
   "id": "37f6fe9c",
   "metadata": {},
   "source": [
    "## Exercise 6 - Tweets (EXTRA CREDIT / BONUS EXCERCISE)\n",
    "\n",
    "Later on in the course you will have a project getting data from Twitter and doing some analysis.  \n",
    "\n",
    "Let's think about working on an individual tweet (string). \n",
    "\n",
    "For the tweets, replace mentions (`@`) and hashtags (`#`), with the just the word itself (hashtags and mentions) without any spaces.  "
   ]
  },
  {
   "cell_type": "code",
   "execution_count": 19,
   "id": "9e732ecb",
   "metadata": {},
   "outputs": [],
   "source": [
    "tweet1 = \"\"\"See the #Keweenaw anew through the eyes of the little ones you love! From the \n",
    "@michigantech Parade of Nations today, to cider pressing at Central - there's so \n",
    "much to experience together!\n",
    "#PureMichigan\"\"\"\n",
    "\n",
    "tweet2 = \"\"\"A new three-year $594K NSF project will study geometric data structures \n",
    "and their connections with other areas of theoretical computer science. Yakov \n",
    "Nekrich, CS, is the PI. \n",
    "http://blogs.mtu.edu/computing/2022/08/26/yakov-nekrich-cs-is-pi-of-new-594k-nsf/\n",
    "@michigantech @NSF #michigantech #computerscience\"\"\""
   ]
  },
  {
   "cell_type": "code",
   "execution_count": 20,
   "id": "b6b1ba87",
   "metadata": {},
   "outputs": [
    {
     "name": "stdout",
     "output_type": "stream",
     "text": [
      "****************************** Tweet One (1) ******************************\n",
      "See the Keweenaw anew through the eyes of the little ones you love! From the \n",
      "michigantech Parade of Nations today, to cider pressing at Central - there's so \n",
      "much to experience together!\n",
      "PureMichigan\n",
      "\n",
      "****************************** Tweet Two (2) ******************************\n",
      "A new three-year $594K NSF project will study geometric data structures \n",
      "and their connections with other areas of theoretical computer science. Yakov \n",
      "Nekrich, CS, is the PI. \n",
      "http://blogs.mtu.edu/computing/2022/08/26/yakov-nekrich-cs-is-pi-of-new-594k-nsf/\n",
      "michigantech NSF michigantech computerscience\n"
     ]
    }
   ],
   "source": [
    "# Print out the tweets removing the # and @ using regular expressions\n",
    "replaced_tweet1 = re.sub(r'[@#](\\w+)', r'\\1', tweet1)\n",
    "print(f\"{'*'*30} Tweet One (1) {'*'*30}\\n{replaced_tweet1}\")\n",
    "\n",
    "replaced_tweet2 = re.sub(r'[@#](\\w+)', r'\\1', tweet2)\n",
    "print(f\"\\n{'*'*30} Tweet Two (2) {'*'*30}\\n{replaced_tweet2}\")"
   ]
  },
  {
   "cell_type": "markdown",
   "id": "f900d894",
   "metadata": {},
   "source": [
    "We will see more examples of regular expressions next week with respect to web scraping. "
   ]
  },
  {
   "cell_type": "code",
   "execution_count": null,
   "id": "4118ecb5",
   "metadata": {},
   "outputs": [],
   "source": []
  }
 ],
 "metadata": {
  "kernelspec": {
   "display_name": "Python 3 (ipykernel)",
   "language": "python",
   "name": "python3"
  },
  "language_info": {
   "codemirror_mode": {
    "name": "ipython",
    "version": 3
   },
   "file_extension": ".py",
   "mimetype": "text/x-python",
   "name": "python",
   "nbconvert_exporter": "python",
   "pygments_lexer": "ipython3",
   "version": "3.9.13"
  }
 },
 "nbformat": 4,
 "nbformat_minor": 5
}
