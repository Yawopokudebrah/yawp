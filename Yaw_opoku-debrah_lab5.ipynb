{
 "cells": [
  {
   "cell_type": "markdown",
   "id": "b64d1d68",
   "metadata": {},
   "source": [
    "# Lab 5 - Getting Data\n",
    "\n",
    "The topics of week 5 is getting data with web scraping. \n",
    "\n",
    "In this lab notebook you will gain experience webscraping data of various forms.\n",
    "\n",
    "We will be looking at various US government website and using them to get information (these sites are selected because of their public informative nature). "
   ]
  },
  {
   "cell_type": "markdown",
   "id": "0f34d008",
   "metadata": {},
   "source": [
    "### Yaw Opoku-debrah ###\n",
    "### Group- Date ###"
   ]
  },
  {
   "cell_type": "markdown",
   "id": "0b3841cd",
   "metadata": {},
   "source": [
    "## Lab Setup "
   ]
  },
  {
   "cell_type": "code",
   "execution_count": 24,
   "id": "44945202",
   "metadata": {},
   "outputs": [],
   "source": [
    "from bs4 import BeautifulSoup\n",
    "import requests \n",
    "import pandas as pd\n",
    "import re"
   ]
  },
  {
   "cell_type": "markdown",
   "id": "e816f5cb",
   "metadata": {},
   "source": [
    "## Exercise 1 (5 points)\n",
    "\n",
    "Identify the name of the data set most relevant to 'climate' on https://www.data.gov \n",
    "\n",
    "You will want to use the url = \"https://catalog.data.gov/dataset?q=climate&sort=score+desc%2C+name+asc\".\n",
    "\n",
    "Then, you will use BeautifulSoup to parse the website to find the name of the data set.  "
   ]
  },
  {
   "cell_type": "code",
   "execution_count": 2,
   "id": "4a2ff4c2",
   "metadata": {},
   "outputs": [
    {
     "name": "stdout",
     "output_type": "stream",
     "text": [
      "Downscaled Climate Model Climate Toolbox\n",
      "\n",
      " 22 recent views\n"
     ]
    }
   ],
   "source": [
    "# Identify the name of the data set most relevant to \"climate\" on data.gov\n",
    "# Use BeautifulSoup to parse the website to find the name of the data set. \n",
    "url = 'https://catalog.data.gov/dataset?q=climate&sort=score+desc%2C+name+asc'\n",
    "resp = requests.get(url) \n",
    "soup = BeautifulSoup(resp.text, \"html.parser\")\n",
    "\n",
    "name = soup.find('h3',\"dataset-heading\").text.strip()\n",
    "print(name)"
   ]
  },
  {
   "cell_type": "markdown",
   "id": "799064b0",
   "metadata": {},
   "source": [
    "## Exercise 2 (5 points)\n",
    "\n",
    "Total number of clinical trials (research studies) recorded at the National Institutes of Health, https://clinicaltrials.gov"
   ]
  },
  {
   "cell_type": "code",
   "execution_count": 8,
   "id": "b895267e",
   "metadata": {},
   "outputs": [
    {
     "name": "stdout",
     "output_type": "stream",
     "text": [
      "The number of studies in clinical trails is:  443,142\n"
     ]
    }
   ],
   "source": [
    "# Identify the number of clinical trials (research studies) on https://clinicaltrials.gov\n",
    "# Use BeautifulSoup to parse the website to find the number of studies. \n",
    "url = 'https://clinicaltrials.gov/'\n",
    "resp = requests.get(url) \n",
    "soup = BeautifulSoup(resp.text,\"html.parser\")\n",
    "\n",
    "\n",
    "num_research_studies = soup.find(\"div\",{\"id\": \"trial-count\"}).text.split()   # integer value\n",
    "Total_number=num_research_studies[1].strip()\n",
    "print(\"The number of studies in clinical trails is: \", Total_number)\n",
    "\n"
   ]
  },
  {
   "cell_type": "markdown",
   "id": "932a8a0d",
   "metadata": {},
   "source": [
    "## Exercise 3 (10 points)\n",
    "\n",
    "Give the number of travel advisories, by level, for international travel given by the US government. Data available at: https://travel.state.gov/content/travel/en/traveladvisories/traveladvisories.html/\n",
    "\n",
    "Create two solutions for this question, the first using `pandas` `read_html` function.  The second version should be using just BeautifulSoup and python to scrape the table.  "
   ]
  },
  {
   "cell_type": "code",
   "execution_count": 10,
   "id": "c9830f7f",
   "metadata": {},
   "outputs": [],
   "source": [
    "site = requests.get('https://travel.state.gov/content/travel/en/traveladvisories/traveladvisories.html/').text\n",
    "q3 = BeautifulSoup(site, 'html5lib')"
   ]
  },
  {
   "cell_type": "markdown",
   "id": "fc424715",
   "metadata": {},
   "source": [
    "**Version 1** - Write one solution using pandas `read_html`"
   ]
  },
  {
   "cell_type": "markdown",
   "id": "868b18a7",
   "metadata": {},
   "source": [
    "**Version 2** - Write another solution just using beautiful soup and other Python functions to scrape the table."
   ]
  },
  {
   "cell_type": "code",
   "execution_count": 14,
   "id": "d54db8f7",
   "metadata": {},
   "outputs": [
    {
     "name": "stdout",
     "output_type": "stream",
     "text": [
      "Number of travel Level 1 warnings : 92\n",
      "Number of travel Level 2 warnings : 66\n",
      "Number of travel Level 3 warnings : 32\n",
      "Number of travel Level 4 warnings : 19\n"
     ]
    }
   ],
   "source": [
    "# Send GET request to the URL and create a BeautifulSoup object\n",
    "#url = 'https://travel.state.gov/content/travel/en/traveladvisories/traveladvisories.html/'\n",
    "#resp = requests.get(url)\n",
    "#soup = BeautifulSoup(resp.text, 'html.parser')\n",
    "\n",
    "# Find the table containing the travel warnings and extract its data\n",
    "#table = soup.find('table')\n",
    "df = pd.read_html(str(table))[0]\n",
    "\n",
    "# Count the number of warnings for each advisory level\n",
    "#df=dfs[0]\n",
    "#df.drop(df.tail(1).index,inplace=True)\n",
    "df['Level']=df['Level'].str.extract('(\\d)', expand=False)\n",
    "df=df.groupby('Level')['Advisory'].count().reset_index()\n",
    "\n",
    "l1Num = df.loc[df['Level'] == '1']['Advisory'].values[0]\n",
    "l2Num = df.loc[df['Level'] == '2']['Advisory'].values[0]\n",
    "l3Num = df.loc[df['Level'] == '3']['Advisory'].values[0]\n",
    "l4Num = df.loc[df['Level'] == '4']['Advisory'].values[0]\n",
    "\n",
    "# Print the results\n",
    "print(\"Number of travel Level 1 warnings : \" +  str(l1Num)) \n",
    "print(\"Number of travel Level 2 warnings : \" +  str(l2Num))\n",
    "print(\"Number of travel Level 3 warnings : \" +  str(l3Num))\n",
    "print(\"Number of travel Level 4 warnings : \" +  str(l4Num)) "
   ]
  },
  {
   "cell_type": "code",
   "execution_count": 27,
   "id": "108f49eb",
   "metadata": {},
   "outputs": [
    {
     "name": "stdout",
     "output_type": "stream",
     "text": [
      "Number of travel Level 1 warnings : 92\n",
      "Number of travel Level 2 warnings : 67\n",
      "Number of travel Level 3 warnings : 31\n",
      "Number of travel Level 4 warnings : 19\n"
     ]
    }
   ],
   "source": [
    "# Send GET request to the URL and create a BeautifulSoup object\n",
    "url = 'https://travel.state.gov/content/travel/en/traveladvisories/traveladvisories.html/'\n",
    "resp = requests.get(url)\n",
    "soup = BeautifulSoup(resp.text, 'html.parser')\n",
    "table = soup.find_all('table')[0]\n",
    "#print(table)\n",
    "# Initialize counters for each advisory level\n",
    "l1Num2 = 0\n",
    "l2Num2= 0\n",
    "l3Num2= 0\n",
    "l4Num2 = 0\n",
    "\n",
    "# Loop through each row of the table and count the number of warnings for each advisory level\n",
    "for p in table.find_all('tr'):\n",
    "    cells = p.find_all('td')\n",
    "    if len(cells) >0:\n",
    "        if  'Level 1' in(cells[1].text):\n",
    "            l1Num2 =l1Num2+1\n",
    "        elif 'Level 2' in (cells[1].text):\n",
    "            l2Num2= l2Num2+1\n",
    "        elif 'Level 3'in (cells[1].text):\n",
    "            l3Num2 = l3Num2+1\n",
    "        elif 'Level 4'in (cells[1].text):\n",
    "            l4Num2 = l4Num2+1\n",
    "\n",
    "# Print the results\n",
    "print(\"Number of travel Level 1 warnings : \" +  str(l1Num2)) \n",
    "print(\"Number of travel Level 2 warnings : \" +  str(l2Num2))\n",
    "print(\"Number of travel Level 3 warnings : \" +  str(l3Num2))\n",
    "print(\"Number of travel Level 4 warnings : \" +  str(l4Num2))"
   ]
  },
  {
   "cell_type": "markdown",
   "id": "39e49ca5",
   "metadata": {},
   "source": [
    "##  Example \n",
    "\n",
    "Let's look at the number of workplace fatalities as reported to the federal and state Occupational Safety and Health Administration (OSHA) at https://www.osha.gov/fatalities. \n"
   ]
  },
  {
   "cell_type": "code",
   "execution_count": null,
   "id": "2aebe602",
   "metadata": {},
   "outputs": [],
   "source": [
    "site = requests.get('https://www.osha.gov/fatalities').text\n",
    "q4 = BeautifulSoup(site, 'html5lib')\n",
    "\n",
    "# Read in Table using pandas \"read_html\" method\n",
    "q4table = pd.read_html(q4.prettify(), flavor=['bs4'])\n",
    "df4 = q4table[0]\n",
    "#df4.head()"
   ]
  },
  {
   "cell_type": "code",
   "execution_count": null,
   "id": "0f033f22",
   "metadata": {},
   "outputs": [],
   "source": [
    "df4.shape"
   ]
  },
  {
   "cell_type": "code",
   "execution_count": null,
   "id": "34607863",
   "metadata": {},
   "outputs": [],
   "source": [
    "sz = df4[df4['Citation Issued Related to Fatality']=='Yes'].shape\n",
    "print(\"Number of citations issues related to fatality: \", sz[0])"
   ]
  },
  {
   "cell_type": "markdown",
   "id": "aa84a68c",
   "metadata": {},
   "source": [
    "## Exercise 4 (5 points)\n",
    "\n",
    "Save in a DataFrame the incidents that occurred in fiscal year 2020, Oct. 1, 2019 - Sept. 30, 2020.  \n",
    "\n",
    "Try using `pd.to_datetime` to add a new \"Date\" column with the Date of Incident column converted to a datetime object that may be easier to filter. \n",
    "\n",
    "https://pandas.pydata.org/docs/reference/api/pandas.to_datetime.html"
   ]
  },
  {
   "cell_type": "code",
   "execution_count": 29,
   "id": "1c0a3ced",
   "metadata": {},
   "outputs": [
    {
     "data": {
      "text/html": [
       "<div>\n",
       "<style scoped>\n",
       "    .dataframe tbody tr th:only-of-type {\n",
       "        vertical-align: middle;\n",
       "    }\n",
       "\n",
       "    .dataframe tbody tr th {\n",
       "        vertical-align: top;\n",
       "    }\n",
       "\n",
       "    .dataframe thead th {\n",
       "        text-align: right;\n",
       "    }\n",
       "</style>\n",
       "<table border=\"1\" class=\"dataframe\">\n",
       "  <thead>\n",
       "    <tr style=\"text-align: right;\">\n",
       "      <th></th>\n",
       "      <th>Date of Incident</th>\n",
       "      <th>City</th>\n",
       "      <th>Select State</th>\n",
       "      <th>Hazard Description</th>\n",
       "      <th>Inspection Number</th>\n",
       "      <th>Federal or State Plan</th>\n",
       "      <th>Citation Issued Related to Fatality</th>\n",
       "      <th>Date</th>\n",
       "    </tr>\n",
       "  </thead>\n",
       "  <tbody>\n",
       "    <tr>\n",
       "      <th>783</th>\n",
       "      <td>09/28/2021</td>\n",
       "      <td>Stoughton</td>\n",
       "      <td>WI</td>\n",
       "      <td>Robert Castillo (87) fatally crushed in trench...</td>\n",
       "      <td>1551677.0</td>\n",
       "      <td>Federal</td>\n",
       "      <td>No</td>\n",
       "      <td>2021-09-28</td>\n",
       "    </tr>\n",
       "    <tr>\n",
       "      <th>784</th>\n",
       "      <td>09/28/2021</td>\n",
       "      <td>Lindstrom</td>\n",
       "      <td>MN</td>\n",
       "      <td>David Chmielewski (48) died in trench collapse.</td>\n",
       "      <td>1560134.0</td>\n",
       "      <td>State</td>\n",
       "      <td>Yes</td>\n",
       "      <td>2021-09-28</td>\n",
       "    </tr>\n",
       "    <tr>\n",
       "      <th>785</th>\n",
       "      <td>09/25/2021</td>\n",
       "      <td>Clermont</td>\n",
       "      <td>FL</td>\n",
       "      <td>Jesus Olvera Aguilar (19) fatally struck by li...</td>\n",
       "      <td>1551830.0</td>\n",
       "      <td>Federal</td>\n",
       "      <td>No</td>\n",
       "      <td>2021-09-25</td>\n",
       "    </tr>\n",
       "    <tr>\n",
       "      <th>786</th>\n",
       "      <td>09/24/2021</td>\n",
       "      <td>Kooskia</td>\n",
       "      <td>ID</td>\n",
       "      <td>Woker died in fall from trailer deck.</td>\n",
       "      <td>1554698.0</td>\n",
       "      <td>Federal</td>\n",
       "      <td>Yes</td>\n",
       "      <td>2021-09-24</td>\n",
       "    </tr>\n",
       "    <tr>\n",
       "      <th>787</th>\n",
       "      <td>09/24/2021</td>\n",
       "      <td>Charlotte</td>\n",
       "      <td>NC</td>\n",
       "      <td>Doyle \"Gene\" Stepp (61) died in fall through c...</td>\n",
       "      <td>1555738.0</td>\n",
       "      <td>State</td>\n",
       "      <td>Yes</td>\n",
       "      <td>2021-09-24</td>\n",
       "    </tr>\n",
       "    <tr>\n",
       "      <th>...</th>\n",
       "      <td>...</td>\n",
       "      <td>...</td>\n",
       "      <td>...</td>\n",
       "      <td>...</td>\n",
       "      <td>...</td>\n",
       "      <td>...</td>\n",
       "      <td>...</td>\n",
       "      <td>...</td>\n",
       "    </tr>\n",
       "    <tr>\n",
       "      <th>1900</th>\n",
       "      <td>10/02/2020</td>\n",
       "      <td>Germantown</td>\n",
       "      <td>NY</td>\n",
       "      <td>Worker fatally struck by rolling truck.</td>\n",
       "      <td>1496101.0</td>\n",
       "      <td>Federal</td>\n",
       "      <td>No</td>\n",
       "      <td>2020-10-02</td>\n",
       "    </tr>\n",
       "    <tr>\n",
       "      <th>1901</th>\n",
       "      <td>10/02/2020</td>\n",
       "      <td>Sacramento</td>\n",
       "      <td>CA</td>\n",
       "      <td>Worker died in fall from roof.</td>\n",
       "      <td>1495968.0</td>\n",
       "      <td>State</td>\n",
       "      <td>Yes</td>\n",
       "      <td>2020-10-02</td>\n",
       "    </tr>\n",
       "    <tr>\n",
       "      <th>1902</th>\n",
       "      <td>10/01/2020</td>\n",
       "      <td>Au Train</td>\n",
       "      <td>MI</td>\n",
       "      <td>Worker fatally crushed between two trucks.</td>\n",
       "      <td>1495370.0</td>\n",
       "      <td>STATE</td>\n",
       "      <td>No</td>\n",
       "      <td>2020-10-01</td>\n",
       "    </tr>\n",
       "    <tr>\n",
       "      <th>1903</th>\n",
       "      <td>10/01/2020</td>\n",
       "      <td>Petersburg</td>\n",
       "      <td>VA</td>\n",
       "      <td>Worker fatally struck by motor vehicle.</td>\n",
       "      <td>1495621.0</td>\n",
       "      <td>State</td>\n",
       "      <td>No</td>\n",
       "      <td>2020-10-01</td>\n",
       "    </tr>\n",
       "    <tr>\n",
       "      <th>1904</th>\n",
       "      <td>10/01/2020</td>\n",
       "      <td>Waldorf</td>\n",
       "      <td>MD</td>\n",
       "      <td>Worker fatally shot during robbery.</td>\n",
       "      <td>1495605.0</td>\n",
       "      <td>STATE</td>\n",
       "      <td>No</td>\n",
       "      <td>2020-10-01</td>\n",
       "    </tr>\n",
       "  </tbody>\n",
       "</table>\n",
       "<p>1122 rows × 8 columns</p>\n",
       "</div>"
      ],
      "text/plain": [
       "     Date of Incident        City Select State  \\\n",
       "783        09/28/2021   Stoughton           WI   \n",
       "784        09/28/2021   Lindstrom           MN   \n",
       "785        09/25/2021    Clermont           FL   \n",
       "786        09/24/2021     Kooskia           ID   \n",
       "787        09/24/2021   Charlotte           NC   \n",
       "...               ...         ...          ...   \n",
       "1900       10/02/2020  Germantown           NY   \n",
       "1901       10/02/2020  Sacramento           CA   \n",
       "1902       10/01/2020    Au Train           MI   \n",
       "1903       10/01/2020  Petersburg           VA   \n",
       "1904       10/01/2020     Waldorf           MD   \n",
       "\n",
       "                                     Hazard Description  Inspection Number  \\\n",
       "783   Robert Castillo (87) fatally crushed in trench...          1551677.0   \n",
       "784     David Chmielewski (48) died in trench collapse.          1560134.0   \n",
       "785   Jesus Olvera Aguilar (19) fatally struck by li...          1551830.0   \n",
       "786               Woker died in fall from trailer deck.          1554698.0   \n",
       "787   Doyle \"Gene\" Stepp (61) died in fall through c...          1555738.0   \n",
       "...                                                 ...                ...   \n",
       "1900            Worker fatally struck by rolling truck.          1496101.0   \n",
       "1901                     Worker died in fall from roof.          1495968.0   \n",
       "1902         Worker fatally crushed between two trucks.          1495370.0   \n",
       "1903            Worker fatally struck by motor vehicle.          1495621.0   \n",
       "1904                Worker fatally shot during robbery.          1495605.0   \n",
       "\n",
       "     Federal or State Plan Citation Issued Related to Fatality       Date  \n",
       "783                Federal                                  No 2021-09-28  \n",
       "784                  State                                 Yes 2021-09-28  \n",
       "785                Federal                                  No 2021-09-25  \n",
       "786                Federal                                 Yes 2021-09-24  \n",
       "787                  State                                 Yes 2021-09-24  \n",
       "...                    ...                                 ...        ...  \n",
       "1900               Federal                                  No 2020-10-02  \n",
       "1901                 State                                 Yes 2020-10-02  \n",
       "1902                 STATE                                  No 2020-10-01  \n",
       "1903                 State                                  No 2020-10-01  \n",
       "1904                 STATE                                  No 2020-10-01  \n",
       "\n",
       "[1122 rows x 8 columns]"
      ]
     },
     "execution_count": 29,
     "metadata": {},
     "output_type": "execute_result"
    }
   ],
   "source": [
    "# Save all incidents that occured in fiscal year 2021: Oct. 1, 2020 - Sept. 30, 2021\n",
    "#  in a DataFrame (\"q4result\"), it will have a new column \"Date\" with the Date of \n",
    "#  Incident column converted to a datetime object. \n",
    "site = requests.get('https://www.osha.gov/fatalities').text\n",
    "q4 = BeautifulSoup(site, 'html5lib')\n",
    "df=pd.read_html(q4.prettify())[0]\n",
    "df['Date']=pd.to_datetime(df['Date of Incident'])\n",
    "q4result=df.loc[(df['Date'] >='2020-10-01')& (df['Date']<='2021-09-30')]\n",
    "\n",
    "q4result "
   ]
  },
  {
   "cell_type": "markdown",
   "id": "e35ae60b",
   "metadata": {},
   "source": [
    "## Exercise 5 (5 points)\n",
    "\n",
    "Count the number of FOIA requests made to the Chicago Public Library.  \n",
    "\n",
    "For this exercise you will need to integrate requests with the `csv` module we saw last week. "
   ]
  },
  {
   "cell_type": "code",
   "execution_count": 28,
   "id": "91304c09",
   "metadata": {},
   "outputs": [
    {
     "name": "stdout",
     "output_type": "stream",
     "text": [
      "119\n"
     ]
    }
   ],
   "source": [
    "import csv \n",
    "import urllib.request\n",
    "url = 'https://data.cityofchicago.org/api/views/n379-5uzu/rows.csv?accessType=DOWNLOAD'\n",
    "with urllib.request.urlopen(url) as new_read:\n",
    "    data = list(csv.DictReader(new_read.read().decode('utf-8').splitlines()))\n",
    "print(len(data))"
   ]
  }
 ],
 "metadata": {
  "kernelspec": {
   "display_name": "Python 3 (ipykernel)",
   "language": "python",
   "name": "python3"
  },
  "language_info": {
   "codemirror_mode": {
    "name": "ipython",
    "version": 3
   },
   "file_extension": ".py",
   "mimetype": "text/x-python",
   "name": "python",
   "nbconvert_exporter": "python",
   "pygments_lexer": "ipython3",
   "version": "3.9.13"
  }
 },
 "nbformat": 4,
 "nbformat_minor": 5
}
